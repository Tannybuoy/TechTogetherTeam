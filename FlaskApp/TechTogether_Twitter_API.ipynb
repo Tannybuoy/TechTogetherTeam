{
  "nbformat": 4,
  "nbformat_minor": 0,
  "metadata": {
    "colab": {
      "name": "TechTogether Twitter API",
      "provenance": [],
      "collapsed_sections": [],
      "authorship_tag": "ABX9TyM+GpVsXZY/2A42XwZHQkRo",
      "include_colab_link": true
    },
    "kernelspec": {
      "name": "python3",
      "display_name": "Python 3"
    }
  },
  "cells": [
    {
      "cell_type": "markdown",
      "metadata": {
        "id": "view-in-github",
        "colab_type": "text"
      },
      "source": [
        "<a href=\"https://colab.research.google.com/github/catekat16/TechTogetherTeam/blob/ketki/FlaskApp/TechTogether_Twitter_API.ipynb\" target=\"_parent\"><img src=\"https://colab.research.google.com/assets/colab-badge.svg\" alt=\"Open In Colab\"/></a>"
      ]
    },
    {
      "cell_type": "code",
      "metadata": {
        "id": "yZ2eg-jscdLT",
        "colab": {
          "base_uri": "https://localhost:8080/"
        },
        "outputId": "b0662be8-0cc2-4e1c-9aa6-bce604ebfcdb"
      },
      "source": [
        "!pip install tweepy\n",
        "!pip install tweet-preprocessor"
      ],
      "execution_count": null,
      "outputs": [
        {
          "output_type": "stream",
          "text": [
            "Requirement already satisfied: tweepy in /usr/local/lib/python3.6/dist-packages (3.6.0)\n",
            "Requirement already satisfied: requests-oauthlib>=0.7.0 in /usr/local/lib/python3.6/dist-packages (from tweepy) (1.3.0)\n",
            "Requirement already satisfied: six>=1.10.0 in /usr/local/lib/python3.6/dist-packages (from tweepy) (1.15.0)\n",
            "Requirement already satisfied: requests>=2.11.1 in /usr/local/lib/python3.6/dist-packages (from tweepy) (2.23.0)\n",
            "Requirement already satisfied: PySocks>=1.5.7 in /usr/local/lib/python3.6/dist-packages (from tweepy) (1.7.1)\n",
            "Requirement already satisfied: oauthlib>=3.0.0 in /usr/local/lib/python3.6/dist-packages (from requests-oauthlib>=0.7.0->tweepy) (3.1.0)\n",
            "Requirement already satisfied: chardet<4,>=3.0.2 in /usr/local/lib/python3.6/dist-packages (from requests>=2.11.1->tweepy) (3.0.4)\n",
            "Requirement already satisfied: urllib3!=1.25.0,!=1.25.1,<1.26,>=1.21.1 in /usr/local/lib/python3.6/dist-packages (from requests>=2.11.1->tweepy) (1.24.3)\n",
            "Requirement already satisfied: certifi>=2017.4.17 in /usr/local/lib/python3.6/dist-packages (from requests>=2.11.1->tweepy) (2020.11.8)\n",
            "Requirement already satisfied: idna<3,>=2.5 in /usr/local/lib/python3.6/dist-packages (from requests>=2.11.1->tweepy) (2.10)\n",
            "Requirement already satisfied: tweet-preprocessor in /usr/local/lib/python3.6/dist-packages (0.6.0)\n"
          ],
          "name": "stdout"
        }
      ]
    },
    {
      "cell_type": "code",
      "metadata": {
        "id": "MWi6pZqiq0jg"
      },
      "source": [
        "import tweepy \n",
        "import sys\n",
        "import pandas as pd\n",
        "import re\n",
        "import preprocessor as p"
      ],
      "execution_count": null,
      "outputs": []
    },
    {
      "cell_type": "code",
      "metadata": {
        "id": "AuLOiZGCsIlS"
      },
      "source": [
        "def get_tweets(username, count):\n",
        "  try:     \n",
        "    consumer_key = \"6rJdQdSsGuNyN7LHU4m8FSOyd\"\n",
        "    consumer_secret = \"Y7VzssVbbcgveRRN5uzUAykc2LaJHcF9nOwMLq6rp6ZXMejpGV\"\n",
        "    access_token = \"732826401431248896-FYmrCvcNNFs3GxedIHCXx1kDRR0aLqx\"\n",
        "    access_token_secret = \"fNJFeuNJZ6Yg3q7UsbiquzXc5qprCx2IOvwHXJUkZhHbf\"\n",
        "\n",
        "    auth = tweepy.OAuthHandler(consumer_key, consumer_secret)\n",
        "    auth.set_access_token(access_token, access_token_secret)\n",
        "    api = tweepy.API(auth,wait_on_rate_limit=True)  \n",
        "\n",
        "    # Creation of query method using parameters\n",
        "    tweets = tweepy.Cursor(api.user_timeline,id=username).items(count)\n",
        " \n",
        "    # Pulling information from tweets iterable object\n",
        "    tweet_text=\"\"\n",
        "    for tweet in tweets:\n",
        "      if (not tweet.retweeted) and ('RT @' not in tweet.text):\n",
        "        tweet_text+= p.clean(tweet.text)+\" \" \n",
        "\n",
        "    tweet_text = re.sub(r'^https?:\\/\\/.*[\\r\\n]*', '', tweet_text, flags=re.MULTILINE)\n",
        "    # Creation of dataframe from tweets list\n",
        "    # Add or remove columns as you remove tweet information\n",
        "    #tweets_df = pd.DataFrame(tweets_list)\n",
        "  except BaseException as e:\n",
        "    print('failed on_status,',str(e))\n",
        "    time.sleep(3)\n",
        "\n",
        "  return \" \".join(tweet_text.split())\n"
      ],
      "execution_count": null,
      "outputs": []
    },
    {
      "cell_type": "code",
      "metadata": {
        "id": "BKkp8rjfwfsh"
      },
      "source": [
        "if __name__ == '__main__':\n",
        "  text = get_tweets(\"benditlikeketki\",50)"
      ],
      "execution_count": null,
      "outputs": []
    },
    {
      "cell_type": "code",
      "metadata": {
        "colab": {
          "base_uri": "https://localhost:8080/"
        },
        "id": "5B9LfkSBzfTd",
        "outputId": "ddad6865-fe3e-4c68-8a1d-c2f3c5564b06"
      },
      "source": [
        "print(text)"
      ],
      "execution_count": null,
      "outputs": [
        {
          "output_type": "stream",
          "text": [
            "We won a prize at HackNJIT !|||Thank you for spending hours with me this year on . You are my .|||This one is close to my heart \"The Road Not Taken Two roads diverged in a yellow wood, And sorry I could not trav...|||Quote tweet \"There is a difference between being poor and being broke. Broke is temporary. Poor is eternal.\"|||.|||*cough* 'tsa gimmick *cough*|||Wash your laundry in it|||It is the final proof of Gods omnipotence that he need not exist in order to save us.~Peter De Vries|||is a circle. You end up at the same place after a period. But with a new .|||If there was nobody there to hear your story, would you still tell it? Struggle makes absolutely no sense if it's just you. -Kyle Hoobin|||It is far more terrifying to acknowledge that you are in universe than it is to confront challenges throws your way|||\"You have to learn the rules of the game. And then you have to play better than anyone else.\" - Albert Einstein.|||Isn't it funny how noses run but feet smell?|||We cling to our own p.o.v as though everything depended on it. Yet our opinions have no permanence; like summer they gradually pass away.|||Friendship is born at the moment when one person says to another, \"What you too? I thought I was the only one!\"-C.S.Lewis|||The bad guys need to get lucky everytime. The good guys need to get only once.|||The isnt how convincingly desert at distance looks like an oasis, but how nourished you believe youll become with mouthfuls of sand|||Those who don't mind. Those who don't matter.|||What is ? asked a seeker.Total absence of , said the Master.What is it that we fear? further asked .Love he replied|||is addictive. And like any , it can consume you.|||To see world in grain of sandAnd heaven in wild flowerHold infinity in palm of your handAnd eternity in an hour|||Your is not a mistake, but has been placed inside you as a into . - Matt Licata|||in olden days when flush was not invented, bhangis used to collect waste from chamber pots. Yes. THAT!|||I am yet to hear a song about of love. Although sustained is far more difficult and therefore beautiful than .|||I respect those who can freely express their publicly. I could never do that. Too much on my part.|||I think the reward for is that everyone likes you except yourself. Rita Mae Brown|||That awesome moment when Danny gives Yara 'that smirk'|||Until you make the unconscious , it will direct your , and you will call it . - Carl Jung|||Just for|||sometimes requires . And surgeries involve cutting open the body. If things are awry in your , healing is on its way.|||You know :If you play small, you stay small.|||Ofcourse they'll hate you for speaking the . They probably already know the truth and are in about it because it's|||is for us. We are not for religion.|||Great . They are to what salt is to a feast.|||you don't face become your|||There is no such thing as good or bad. There is only love.|||Motivation is like a bath. You need to have it everyday|||They're busy banning a comedian's video|||Photos of best of moments rarely make it to facebook, cuz everyone is too engrossed in that moment to remember to click|||is|||Good article for inspiration. Improve your life by living like a baby.|||To see a world in a grain of sand, And a heaven in a wild flower, Hold infinity in the palm of your hand, And eternity in an hour.|||\n"
          ],
          "name": "stdout"
        }
      ]
    }
  ]
}